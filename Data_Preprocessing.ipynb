{
 "cells": [
  {
   "cell_type": "code",
   "execution_count": 1,
   "metadata": {},
   "outputs": [],
   "source": [
    "import os\n",
    "import shutil\n",
    "import numpy as np"
   ]
  },
  {
   "cell_type": "code",
   "execution_count": 2,
   "metadata": {},
   "outputs": [],
   "source": [
    "# Source and target directories\n",
    "source_dir = r\"D:\\MedSAM2\\prostate_mri_us_biopsy\"\n",
    "target_image_dir = r\"D:\\MedSAM2\\organized_data\\images\"\n",
    "target_mask_dir = r\"D:\\MedSAM2\\organized_data\\masks\""
   ]
  },
  {
   "cell_type": "code",
   "execution_count": 15,
   "metadata": {},
   "outputs": [],
   "source": [
    "# make directories\n",
    "os.makedirs(target_image_dir, exist_ok=True)\n",
    "os.makedirs(target_mask_dir, exist_ok=True)"
   ]
  },
  {
   "cell_type": "code",
   "execution_count": 20,
   "metadata": {},
   "outputs": [],
   "source": [
    "def split_img_masks(source_dir, target_image_dir, target_mask_dir):\n",
    "    \"\"\"\n",
    "    Separates images and masks from individual patient folders and add them to respective image/mask folder\n",
    "    :param source_dir: directory that has all images and masks currently\n",
    "    :param target_image_dir: directory for images to be copied to\n",
    "    :param target_mask_dir: directory for masks to be copied to\n",
    "    \"\"\"\n",
    "    # Iterate over each patient folder\n",
    "    for patient_folder in os.listdir(source_dir):\n",
    "        patient_path = os.path.join(source_dir, patient_folder)\n",
    "\n",
    "        if os.path.isdir(patient_path):\n",
    "            # Iterate through subfolders in patient folder\n",
    "            for subfolder in os.listdir(patient_path):\n",
    "                subfolder_path = os.path.join(patient_path, subfolder)\n",
    "\n",
    "                if os.path.isdir(subfolder_path):\n",
    "                    for subfolder2 in os.listdir(subfolder_path):\n",
    "                        subfolder2_path = os.path.join(subfolder_path, subfolder2)\n",
    "                        # Need to find MRI folders\n",
    "                        if os.path.isdir(subfolder2_path) and 'MR' in os.path.basename(subfolder2_path):\n",
    "                            # Create subfolder for each MRI folder\n",
    "                            batch_name = os.path.basename(subfolder2_path)\n",
    "                            patient_mri_dir = os.path.join(target_image_dir, patient_folder, batch_name)\n",
    "                            os.makedirs(patient_mri_dir, exist_ok=True)\n",
    "\n",
    "                            # Move MRI DICOM files into appropriate folder\n",
    "                            for file in os.listdir(subfolder2_path):\n",
    "                                if file.endswith(\".dcm\"): # PRETTY SURE THEYRE ALL DICOM\n",
    "                                    shutil.copy(os.path.join(subfolder2_path, file), os.path.join(patient_mri_dir, file))\n",
    "\n",
    "                        # Find seg mask folder\n",
    "                        elif os.path.isdir(subfolder2_path) and \"SEG\" in os.path.basename(subfolder2_path):\n",
    "                            # Create subfolder for each MRI folder\n",
    "                            patient_seg_dir = os.path.join(target_mask_dir, patient_folder, batch_name)\n",
    "                            os.makedirs(patient_seg_dir, exist_ok=True)\n",
    "\n",
    "                            # Move seg mask DICOM files\n",
    "                            for file in os.listdir(subfolder2_path):\n",
    "                                if file.endswith(\".dcm\"):\n",
    "                                    shutil.copy(os.path.join(subfolder2_path, file), os.path.join(patient_seg_dir, file))"
   ]
  },
  {
   "cell_type": "code",
   "execution_count": null,
   "metadata": {},
   "outputs": [],
   "source": [
    "split_img_masks(source_dir, target_image_dir, target_mask_dir)"
   ]
  },
  {
   "cell_type": "code",
   "execution_count": 44,
   "metadata": {},
   "outputs": [],
   "source": [
    "image_dir = \"/home/jovyan/Medical-SAM2/data/T2img_Mask/T2MR_nrrd\"\n",
    "mask_dir = \"/home/jovyan/Medical-SAM2/data/T2img_Mask/T2_prostate_mask\"\n",
    "\n",
    "train_mask_dir = \"/home/jovyan/Medical-SAM2/data/T2img_Mask/Training/masks\"\n",
    "train_img_dir = \"/home/jovyan/Medical-SAM2/data/T2img_Mask/Training/images\"\n",
    "\n",
    "test_mask_dir = \"/home/jovyan/Medical-SAM2/data/T2img_Mask/Test/masks\"\n",
    "test_img_dir = \"/home/jovyan/Medical-SAM2/data/T2img_Mask/Test/images\"\n",
    "\n",
    "val_mask_dir = \"/home/jovyan/Medical-SAM2/data/T2img_Mask/Validation/masks\"\n",
    "val_img_dir = \"/home/jovyan/Medical-SAM2/data/T2img_Mask/Validation/images\""
   ]
  },
  {
   "cell_type": "code",
   "execution_count": 45,
   "metadata": {},
   "outputs": [],
   "source": [
    "# make directories\n",
    "os.makedirs(train_mask_dir, exist_ok=True)\n",
    "os.makedirs(train_img_dir, exist_ok=True)\n",
    "os.makedirs(test_mask_dir, exist_ok=True)\n",
    "os.makedirs(test_img_dir, exist_ok=True)\n",
    "os.makedirs(val_mask_dir, exist_ok=True)\n",
    "os.makedirs(val_img_dir, exist_ok=True)"
   ]
  },
  {
   "cell_type": "code",
   "execution_count": 46,
   "metadata": {},
   "outputs": [],
   "source": [
    "test_ratio = 0.15\n",
    "val_ratio = 0.15\n",
    "# Creating partitions of the data into training, test, and validation\n",
    "all_mask_names = os.listdir(mask_dir)\n",
    "np.random.shuffle(all_mask_names)\n",
    "train_mask_names, val_mask_names, test_mask_names = np.split(np.array(all_mask_names), \n",
    "                                                             [int(len(all_mask_names)*(1-(val_ratio + test_ratio))), \n",
    "                                                              int(len(all_mask_names)*(1-val_ratio)),\n",
    "                                                              ])"
   ]
  },
  {
   "cell_type": "code",
   "execution_count": 47,
   "metadata": {},
   "outputs": [
    {
     "name": "stdout",
     "output_type": "stream",
     "text": [
      "Total images: 1017\n",
      "Training: 711\n",
      "Validation: 153\n",
      "Testing: 153\n"
     ]
    }
   ],
   "source": [
    "# List of file names for mask in each set\n",
    "train_mask_names = [mask_dir + '\\\\' + name for name in train_mask_names.tolist()]\n",
    "val_mask_names = [mask_dir + '\\\\' + name for name in val_mask_names.tolist()]\n",
    "test_mask_names = [mask_dir + '\\\\' + name for name in test_mask_names.tolist()]\n",
    "\n",
    "print('Total images: '+ str(len(all_mask_names)))\n",
    "print('Training: '+ str(len(train_mask_names)))\n",
    "print('Validation: '+  str(len(val_mask_names)))\n",
    "print('Testing: '+ str(len(test_mask_names)))"
   ]
  },
  {
   "cell_type": "code",
   "execution_count": 54,
   "metadata": {},
   "outputs": [],
   "source": [
    "def copy_dir(dir_list, og_dir, dest_dir):\n",
    "    \"\"\"\n",
    "    Copies folders from a list of folder paths to a new destination\n",
    "    :param dir_list: list of directories to be copied\n",
    "    :param og_dir: path to directory where folders are currently stored\n",
    "    :param dest_dir: path to directory where folders should be copied to \n",
    "    \"\"\"\n",
    "    for folder_path in dir_list:\n",
    "        # Get the folder name from the full path\n",
    "        folder_name = os.path.basename(folder_path)\n",
    "        og_path = os.path.join(og_dir, folder_name)\n",
    "        dest_path = os.path.join(dest_dir, folder_name)\n",
    "        \n",
    "        # Copy entire directory tree to the destination\n",
    "        if os.path.isdir(og_path):  # Check if it's a directory\n",
    "            shutil.copytree(og_path, dest_path)\n",
    "        else:\n",
    "            print(f\"Skipping non-directory: {og_path}\")"
   ]
  },
  {
   "cell_type": "code",
   "execution_count": 55,
   "metadata": {
    "collapsed": true,
    "jupyter": {
     "outputs_hidden": true
    }
   },
   "outputs": [
    {
     "ename": "FileNotFoundError",
     "evalue": "[Errno 2] No such file or directory: '/home/jovyan/Medical-SAM2/data/T2img_Mask/T2_prostate_mask\\\\Prostate-MRI-US-Biopsy-0186-ProstateSurface-seriesUID-1.3.6.1.4.1.14519.5.2.1.186773235172006919900828860887136845549.nii.gz'",
     "output_type": "error",
     "traceback": [
      "\u001b[0;31m---------------------------------------------------------------------------\u001b[0m",
      "\u001b[0;31mFileNotFoundError\u001b[0m                         Traceback (most recent call last)",
      "File \u001b[0;32m/opt/conda/lib/python3.9/shutil.py:825\u001b[0m, in \u001b[0;36mmove\u001b[0;34m(src, dst, copy_function)\u001b[0m\n\u001b[1;32m    824\u001b[0m \u001b[38;5;28;01mtry\u001b[39;00m:\n\u001b[0;32m--> 825\u001b[0m     \u001b[43mos\u001b[49m\u001b[38;5;241;43m.\u001b[39;49m\u001b[43mrename\u001b[49m\u001b[43m(\u001b[49m\u001b[43msrc\u001b[49m\u001b[43m,\u001b[49m\u001b[43m \u001b[49m\u001b[43mreal_dst\u001b[49m\u001b[43m)\u001b[49m\n\u001b[1;32m    826\u001b[0m \u001b[38;5;28;01mexcept\u001b[39;00m \u001b[38;5;167;01mOSError\u001b[39;00m:\n",
      "\u001b[0;31mFileNotFoundError\u001b[0m: [Errno 2] No such file or directory: '/home/jovyan/Medical-SAM2/data/T2img_Mask/T2_prostate_mask\\\\Prostate-MRI-US-Biopsy-0186-ProstateSurface-seriesUID-1.3.6.1.4.1.14519.5.2.1.186773235172006919900828860887136845549.nii.gz' -> '/home/jovyan/Medical-SAM2/data/T2img_Mask/Training/masks/T2_prostate_mask\\\\Prostate-MRI-US-Biopsy-0186-ProstateSurface-seriesUID-1.3.6.1.4.1.14519.5.2.1.186773235172006919900828860887136845549.nii.gz'",
      "\nDuring handling of the above exception, another exception occurred:\n",
      "\u001b[0;31mFileNotFoundError\u001b[0m                         Traceback (most recent call last)",
      "Cell \u001b[0;32mIn[55], line 2\u001b[0m\n\u001b[1;32m      1\u001b[0m \u001b[38;5;66;03m# Copy training, test, and validation masks to respective folders\u001b[39;00m\n\u001b[0;32m----> 2\u001b[0m \u001b[43mcopy_dir\u001b[49m\u001b[43m(\u001b[49m\u001b[43mtrain_mask_names\u001b[49m\u001b[43m,\u001b[49m\u001b[43m \u001b[49m\u001b[43mmask_dir\u001b[49m\u001b[43m,\u001b[49m\u001b[43m \u001b[49m\u001b[43mtrain_mask_dir\u001b[49m\u001b[43m)\u001b[49m\n\u001b[1;32m      3\u001b[0m copy_dir(test_mask_names, mask_dir, test_mask_dir)\n\u001b[1;32m      4\u001b[0m copy_dir(val_mask_names, mask_dir, val_mask_dir)\n",
      "Cell \u001b[0;32mIn[54], line 12\u001b[0m, in \u001b[0;36mcopy_dir\u001b[0;34m(dir_list, og_dir, dest_dir)\u001b[0m\n\u001b[1;32m      8\u001b[0m \u001b[38;5;28;01mfor\u001b[39;00m folder_path \u001b[38;5;129;01min\u001b[39;00m dir_list:\n\u001b[1;32m      9\u001b[0m     \u001b[38;5;66;03m# Get the folder name from the full path\u001b[39;00m\n\u001b[1;32m     10\u001b[0m     \u001b[38;5;66;03m#folder_name = os.path.basename(folder_path)\u001b[39;00m\n\u001b[1;32m     11\u001b[0m     og_path \u001b[38;5;241m=\u001b[39m os\u001b[38;5;241m.\u001b[39mpath\u001b[38;5;241m.\u001b[39mjoin(og_dir, folder_path)\n\u001b[0;32m---> 12\u001b[0m     \u001b[43mshutil\u001b[49m\u001b[38;5;241;43m.\u001b[39;49m\u001b[43mmove\u001b[49m\u001b[43m(\u001b[49m\u001b[43mog_path\u001b[49m\u001b[43m,\u001b[49m\u001b[43m \u001b[49m\u001b[43mdest_dir\u001b[49m\u001b[43m)\u001b[49m\n",
      "File \u001b[0;32m/opt/conda/lib/python3.9/shutil.py:845\u001b[0m, in \u001b[0;36mmove\u001b[0;34m(src, dst, copy_function)\u001b[0m\n\u001b[1;32m    843\u001b[0m         rmtree(src)\n\u001b[1;32m    844\u001b[0m     \u001b[38;5;28;01melse\u001b[39;00m:\n\u001b[0;32m--> 845\u001b[0m         \u001b[43mcopy_function\u001b[49m\u001b[43m(\u001b[49m\u001b[43msrc\u001b[49m\u001b[43m,\u001b[49m\u001b[43m \u001b[49m\u001b[43mreal_dst\u001b[49m\u001b[43m)\u001b[49m\n\u001b[1;32m    846\u001b[0m         os\u001b[38;5;241m.\u001b[39munlink(src)\n\u001b[1;32m    847\u001b[0m \u001b[38;5;28;01mreturn\u001b[39;00m real_dst\n",
      "File \u001b[0;32m/opt/conda/lib/python3.9/shutil.py:444\u001b[0m, in \u001b[0;36mcopy2\u001b[0;34m(src, dst, follow_symlinks)\u001b[0m\n\u001b[1;32m    442\u001b[0m \u001b[38;5;28;01mif\u001b[39;00m os\u001b[38;5;241m.\u001b[39mpath\u001b[38;5;241m.\u001b[39misdir(dst):\n\u001b[1;32m    443\u001b[0m     dst \u001b[38;5;241m=\u001b[39m os\u001b[38;5;241m.\u001b[39mpath\u001b[38;5;241m.\u001b[39mjoin(dst, os\u001b[38;5;241m.\u001b[39mpath\u001b[38;5;241m.\u001b[39mbasename(src))\n\u001b[0;32m--> 444\u001b[0m \u001b[43mcopyfile\u001b[49m\u001b[43m(\u001b[49m\u001b[43msrc\u001b[49m\u001b[43m,\u001b[49m\u001b[43m \u001b[49m\u001b[43mdst\u001b[49m\u001b[43m,\u001b[49m\u001b[43m \u001b[49m\u001b[43mfollow_symlinks\u001b[49m\u001b[38;5;241;43m=\u001b[39;49m\u001b[43mfollow_symlinks\u001b[49m\u001b[43m)\u001b[49m\n\u001b[1;32m    445\u001b[0m copystat(src, dst, follow_symlinks\u001b[38;5;241m=\u001b[39mfollow_symlinks)\n\u001b[1;32m    446\u001b[0m \u001b[38;5;28;01mreturn\u001b[39;00m dst\n",
      "File \u001b[0;32m/opt/conda/lib/python3.9/shutil.py:264\u001b[0m, in \u001b[0;36mcopyfile\u001b[0;34m(src, dst, follow_symlinks)\u001b[0m\n\u001b[1;32m    262\u001b[0m     os\u001b[38;5;241m.\u001b[39msymlink(os\u001b[38;5;241m.\u001b[39mreadlink(src), dst)\n\u001b[1;32m    263\u001b[0m \u001b[38;5;28;01melse\u001b[39;00m:\n\u001b[0;32m--> 264\u001b[0m     \u001b[38;5;28;01mwith\u001b[39;00m \u001b[38;5;28;43mopen\u001b[39;49m\u001b[43m(\u001b[49m\u001b[43msrc\u001b[49m\u001b[43m,\u001b[49m\u001b[43m \u001b[49m\u001b[38;5;124;43m'\u001b[39;49m\u001b[38;5;124;43mrb\u001b[39;49m\u001b[38;5;124;43m'\u001b[39;49m\u001b[43m)\u001b[49m \u001b[38;5;28;01mas\u001b[39;00m fsrc:\n\u001b[1;32m    265\u001b[0m         \u001b[38;5;28;01mtry\u001b[39;00m:\n\u001b[1;32m    266\u001b[0m             \u001b[38;5;28;01mwith\u001b[39;00m \u001b[38;5;28mopen\u001b[39m(dst, \u001b[38;5;124m'\u001b[39m\u001b[38;5;124mwb\u001b[39m\u001b[38;5;124m'\u001b[39m) \u001b[38;5;28;01mas\u001b[39;00m fdst:\n\u001b[1;32m    267\u001b[0m                 \u001b[38;5;66;03m# macOS\u001b[39;00m\n",
      "\u001b[0;31mFileNotFoundError\u001b[0m: [Errno 2] No such file or directory: '/home/jovyan/Medical-SAM2/data/T2img_Mask/T2_prostate_mask\\\\Prostate-MRI-US-Biopsy-0186-ProstateSurface-seriesUID-1.3.6.1.4.1.14519.5.2.1.186773235172006919900828860887136845549.nii.gz'"
     ]
    }
   ],
   "source": [
    "# Copy training, test, and validation masks to respective folders\n",
    "copy_dir(train_mask_names, mask_dir, train_mask_dir)\n",
    "copy_dir(test_mask_names, mask_dir, test_mask_dir)\n",
    "copy_dir(val_mask_names, mask_dir, val_mask_dir)"
   ]
  },
  {
   "cell_type": "code",
   "execution_count": 43,
   "metadata": {},
   "outputs": [],
   "source": [
    "# Copy training, test, and validation images to respective folders\n",
    "# Uses list of mask names b/c copy_dir() takes basename of file list\n",
    "copy_dir(train_mask_names, image_dir, train_img_dir)\n",
    "copy_dir(test_mask_names, image_dir, test_img_dir)\n",
    "copy_dir(val_mask_names, image_dir, val_img_dir)"
   ]
  },
  {
   "cell_type": "code",
   "execution_count": 18,
   "metadata": {},
   "outputs": [],
   "source": [
    "def remove_MRI(source_dir):\n",
    "    \"\"\"\n",
    "    Removes extra MRI folders and move T2 weighted out of folder so they can be accessed directly from patient folders\n",
    "    \"\"\"\n",
    "    for patient_dir in os.listdir(source_dir):\n",
    "        patient_path = os.path.join(source_dir, patient_dir)\n",
    "        \n",
    "        if os.path.isdir(patient_path):  # Ensure it's a directory\n",
    "            # Remove the subfolders with less than 60 files\n",
    "            for folder in os.listdir(patient_path):\n",
    "                folder_path = os.path.join(patient_path, folder)\n",
    "                if os.path.isdir(folder_path) and len(os.listdir(folder_path)) < 60:\n",
    "                    try:\n",
    "                        shutil.rmtree(folder_path)  # Remove the entire folder tree\n",
    "                        print(f\"Deleted: {folder_path}\")\n",
    "                    except Exception as e:\n",
    "                        print(f\"Error deleting {folder_path}: {e}\")\n",
    "                else:\n",
    "                    move_files(folder_path, patient_path)"
   ]
  },
  {
   "cell_type": "code",
   "execution_count": 6,
   "metadata": {},
   "outputs": [],
   "source": [
    "def move_files(folder_path, patient_path):\n",
    "    \"\"\"\n",
    "    Moves files from witin a folder \n",
    "    \"\"\"\n",
    "    if os.path.isdir(folder_path):\n",
    "        for file_name in os.listdir(folder_path):\n",
    "            file_path = os.path.join(folder_path, file_name)\n",
    "            dest_path = os.path.join(patient_path, file_name)\n",
    "            try:\n",
    "                shutil.move(file_path, dest_path)  # Move file to the parent folder\n",
    "                print(f\"Moved: {file_path} -> {dest_path}\")\n",
    "            except Exception as e:\n",
    "                print(f\"Error moving {file_path}: {e}\")\n",
    "        # After moving all files, remove the now-empty subfolder\n",
    "        try:\n",
    "            os.rmdir(folder_path)  # Remove the empty subfolder\n",
    "            print(f\"Deleted empty folder: {folder_path}\")\n",
    "        except Exception as e:\n",
    "            print(f\"Error deleting folder {folder_path}: {e}\")"
   ]
  },
  {
   "cell_type": "code",
   "execution_count": null,
   "metadata": {},
   "outputs": [],
   "source": [
    "# Remove unnecessary MRIs - only keep T2\n",
    "remove_MRI(train_img_dir)\n",
    "remove_MRI(test_img_dir)\n",
    "remove_MRI(val_img_dir)"
   ]
  },
  {
   "cell_type": "code",
   "execution_count": 9,
   "metadata": {},
   "outputs": [],
   "source": [
    "def move_masks(mask_dir):\n",
    "    for patient_dir in os.listdir(mask_dir):\n",
    "        patient_path = os.path.join(mask_dir, patient_dir)\n",
    "        \n",
    "        if os.path.isdir(patient_path):  # Ensure it's a directory\n",
    "            for folder in os.listdir(patient_path):\n",
    "                folder_path = os.path.join(patient_path, folder)\n",
    "\n",
    "                move_files(folder_path, patient_path)\n"
   ]
  },
  {
   "cell_type": "code",
   "execution_count": null,
   "metadata": {},
   "outputs": [],
   "source": [
    "# Move masks to patient folder and remove now empty folder\n",
    "move_masks(train_mask_dir)\n",
    "move_masks(test_mask_dir)\n",
    "move_masks(val_mask_dir)"
   ]
  },
  {
   "cell_type": "code",
   "execution_count": 2,
   "metadata": {},
   "outputs": [
    {
     "data": {
      "text/plain": [
       "'D:\\\\MedSAM2\\\\Medical-SAM2\\\\data\\\\prostate_mri\\\\Validation'"
      ]
     },
     "execution_count": 2,
     "metadata": {},
     "output_type": "execute_result"
    }
   ],
   "source": [
    "# moving files into Medical-SAM2\\data folder\n",
    "train_dir = r\"D:\\MedSAM2\\organized_data\\Training\"\n",
    "test_dir = r\"D:\\MedSAM2\\organized_data\\Test\"\n",
    "val_dir = r\"D:\\MedSAM2\\organized_data\\Validation\"\n",
    "\n",
    "shutil.move(train_dir, r\"D:\\MedSAM2\\Medical-SAM2\\data\\prostate_mri\")  # Move file to the parent folder\n",
    "shutil.move(test_dir, r\"D:\\MedSAM2\\Medical-SAM2\\data\\prostate_mri\")  # Move file to the parent folder\n",
    "shutil.move(val_dir, r\"D:\\MedSAM2\\Medical-SAM2\\data\\prostate_mri\")  # Move file to the parent folder\n"
   ]
  },
  {
   "cell_type": "code",
   "execution_count": 13,
   "metadata": {},
   "outputs": [],
   "source": [
    "import os\n",
    "import shutil\n",
    "def remove_empty_folders(base_path):\n",
    "    \"\"\"\n",
    "    Recursively removes empty folders from the dataset directory structure.\n",
    "    \"\"\"\n",
    "    for root, dirs, files in os.walk(base_path, topdown=False):  # Start from the bottom-most folder\n",
    "        for dir in dirs:\n",
    "            dir_path = os.path.join(root, dir)\n",
    "            # Check if the directory is empty\n",
    "            if len(os.listdir(dir_path)) != 60:  # If folder is empty\n",
    "                print(f\"Removing empty folder: {dir_path}\")\n",
    "                shutil.rmtree(dir_path)"
   ]
  },
  {
   "cell_type": "code",
   "execution_count": 16,
   "metadata": {},
   "outputs": [
    {
     "name": "stdout",
     "output_type": "stream",
     "text": [
      "Removing empty folder: ./prostate_mri/Test/images/Prostate-MRI-US-Biopsy-0971\n",
      "Removing empty folder: ./prostate_mri/Test/images/Prostate-MRI-US-Biopsy-0488\n",
      "Removing empty folder: ./prostate_mri/Test/images/Prostate-MRI-US-Biopsy-0674\n",
      "Removing empty folder: ./prostate_mri/Test/images/Prostate-MRI-US-Biopsy-0342\n",
      "Removing empty folder: ./prostate_mri/Test/images/Prostate-MRI-US-Biopsy-0224\n",
      "Removing empty folder: ./prostate_mri/Test/images/Prostate-MRI-US-Biopsy-0956\n",
      "Removing empty folder: ./prostate_mri/Test/images/Prostate-MRI-US-Biopsy-0213\n",
      "Removing empty folder: ./prostate_mri/Test/images/Prostate-MRI-US-Biopsy-0135\n",
      "Removing empty folder: ./prostate_mri/Test/images/Prostate-MRI-US-Biopsy-0596\n",
      "Removing empty folder: ./prostate_mri/Test/images/Prostate-MRI-US-Biopsy-0202\n",
      "Removing empty folder: ./prostate_mri/Test/images/Prostate-MRI-US-Biopsy-0178\n",
      "Removing empty folder: ./prostate_mri/Test/images/Prostate-MRI-US-Biopsy-0525\n",
      "Removing empty folder: ./prostate_mri/Test/images/Prostate-MRI-US-Biopsy-0210\n",
      "Removing empty folder: ./prostate_mri/Test/images/Prostate-MRI-US-Biopsy-0047\n",
      "Removing empty folder: ./prostate_mri/Test/images/Prostate-MRI-US-Biopsy-0566\n",
      "Removing empty folder: ./prostate_mri/Test/images/Prostate-MRI-US-Biopsy-0529\n",
      "Removing empty folder: ./prostate_mri/Test/images/Prostate-MRI-US-Biopsy-0209\n",
      "Removing empty folder: ./prostate_mri/Test/images/Prostate-MRI-US-Biopsy-0290\n",
      "Removing empty folder: ./prostate_mri/Test/images/Prostate-MRI-US-Biopsy-0574\n",
      "Removing empty folder: ./prostate_mri/Test/images/Prostate-MRI-US-Biopsy-0539\n",
      "Removing empty folder: ./prostate_mri/Test/images/Prostate-MRI-US-Biopsy-0024\n",
      "Removing empty folder: ./prostate_mri/Test/images/Prostate-MRI-US-Biopsy-0469\n",
      "Removing empty folder: ./prostate_mri/Test/images/Prostate-MRI-US-Biopsy-0986\n",
      "Removing empty folder: ./prostate_mri/Test/images/Prostate-MRI-US-Biopsy-0177\n",
      "Removing empty folder: ./prostate_mri/Test/images/Prostate-MRI-US-Biopsy-0775\n",
      "Removing empty folder: ./prostate_mri/Test/images/Prostate-MRI-US-Biopsy-0229\n"
     ]
    }
   ],
   "source": [
    "train_image = \"./prostate_mri/Test/images\"\n",
    "remove_empty_folders(train_image)"
   ]
  },
  {
   "cell_type": "code",
   "execution_count": 7,
   "metadata": {},
   "outputs": [],
   "source": [
    "def sync_mask_with_image(image_base_path, mask_base_path):\n",
    "    \"\"\"\n",
    "    Deletes patient folders from the mask directory if they don't have a corresponding folder in the image directory.\n",
    "    \n",
    "    Parameters:\n",
    "        image_base_path (str): Path to the base image directory.\n",
    "        mask_base_path (str): Path to the base mask directory.\n",
    "    \"\"\"\n",
    "    # Get the list of patient folders in the image directory\n",
    "    image_patients = set(os.listdir(image_base_path))\n",
    "    \n",
    "    # Iterate over all patient folders in the mask directory\n",
    "    for patient_folder in os.listdir(mask_base_path):\n",
    "        mask_patient_path = os.path.join(mask_base_path, patient_folder)\n",
    "        \n",
    "        # Check if the folder exists in the image directory\n",
    "        if patient_folder not in image_patients:\n",
    "            print(f\"No corresponding image folder for {patient_folder}. Removing mask folder: {mask_patient_path}\")\n",
    "            shutil.rmtree(mask_patient_path)  # Remove the mask folder"
   ]
  },
  {
   "cell_type": "code",
   "execution_count": 19,
   "metadata": {
    "collapsed": true,
    "jupyter": {
     "outputs_hidden": true
    }
   },
   "outputs": [
    {
     "name": "stdout",
     "output_type": "stream",
     "text": [
      "No corresponding image folder for Prostate-MRI-US-Biopsy-0971. Removing mask folder: ./prostate_mri/Test/masks/Prostate-MRI-US-Biopsy-0971\n",
      "No corresponding image folder for Prostate-MRI-US-Biopsy-0488. Removing mask folder: ./prostate_mri/Test/masks/Prostate-MRI-US-Biopsy-0488\n",
      "No corresponding image folder for Prostate-MRI-US-Biopsy-0674. Removing mask folder: ./prostate_mri/Test/masks/Prostate-MRI-US-Biopsy-0674\n",
      "No corresponding image folder for Prostate-MRI-US-Biopsy-0342. Removing mask folder: ./prostate_mri/Test/masks/Prostate-MRI-US-Biopsy-0342\n",
      "No corresponding image folder for Prostate-MRI-US-Biopsy-0224. Removing mask folder: ./prostate_mri/Test/masks/Prostate-MRI-US-Biopsy-0224\n",
      "No corresponding image folder for Prostate-MRI-US-Biopsy-0956. Removing mask folder: ./prostate_mri/Test/masks/Prostate-MRI-US-Biopsy-0956\n",
      "No corresponding image folder for Prostate-MRI-US-Biopsy-0213. Removing mask folder: ./prostate_mri/Test/masks/Prostate-MRI-US-Biopsy-0213\n",
      "No corresponding image folder for Prostate-MRI-US-Biopsy-0135. Removing mask folder: ./prostate_mri/Test/masks/Prostate-MRI-US-Biopsy-0135\n",
      "No corresponding image folder for Prostate-MRI-US-Biopsy-0596. Removing mask folder: ./prostate_mri/Test/masks/Prostate-MRI-US-Biopsy-0596\n",
      "No corresponding image folder for Prostate-MRI-US-Biopsy-0202. Removing mask folder: ./prostate_mri/Test/masks/Prostate-MRI-US-Biopsy-0202\n",
      "No corresponding image folder for Prostate-MRI-US-Biopsy-0178. Removing mask folder: ./prostate_mri/Test/masks/Prostate-MRI-US-Biopsy-0178\n",
      "No corresponding image folder for Prostate-MRI-US-Biopsy-0525. Removing mask folder: ./prostate_mri/Test/masks/Prostate-MRI-US-Biopsy-0525\n",
      "No corresponding image folder for Prostate-MRI-US-Biopsy-0210. Removing mask folder: ./prostate_mri/Test/masks/Prostate-MRI-US-Biopsy-0210\n",
      "No corresponding image folder for Prostate-MRI-US-Biopsy-0047. Removing mask folder: ./prostate_mri/Test/masks/Prostate-MRI-US-Biopsy-0047\n",
      "No corresponding image folder for Prostate-MRI-US-Biopsy-0566. Removing mask folder: ./prostate_mri/Test/masks/Prostate-MRI-US-Biopsy-0566\n",
      "No corresponding image folder for Prostate-MRI-US-Biopsy-0529. Removing mask folder: ./prostate_mri/Test/masks/Prostate-MRI-US-Biopsy-0529\n",
      "No corresponding image folder for Prostate-MRI-US-Biopsy-0209. Removing mask folder: ./prostate_mri/Test/masks/Prostate-MRI-US-Biopsy-0209\n",
      "No corresponding image folder for Prostate-MRI-US-Biopsy-0290. Removing mask folder: ./prostate_mri/Test/masks/Prostate-MRI-US-Biopsy-0290\n",
      "No corresponding image folder for Prostate-MRI-US-Biopsy-0574. Removing mask folder: ./prostate_mri/Test/masks/Prostate-MRI-US-Biopsy-0574\n",
      "No corresponding image folder for Prostate-MRI-US-Biopsy-0539. Removing mask folder: ./prostate_mri/Test/masks/Prostate-MRI-US-Biopsy-0539\n",
      "No corresponding image folder for Prostate-MRI-US-Biopsy-0024. Removing mask folder: ./prostate_mri/Test/masks/Prostate-MRI-US-Biopsy-0024\n",
      "No corresponding image folder for Prostate-MRI-US-Biopsy-0469. Removing mask folder: ./prostate_mri/Test/masks/Prostate-MRI-US-Biopsy-0469\n",
      "No corresponding image folder for Prostate-MRI-US-Biopsy-0986. Removing mask folder: ./prostate_mri/Test/masks/Prostate-MRI-US-Biopsy-0986\n",
      "No corresponding image folder for Prostate-MRI-US-Biopsy-0177. Removing mask folder: ./prostate_mri/Test/masks/Prostate-MRI-US-Biopsy-0177\n",
      "No corresponding image folder for Prostate-MRI-US-Biopsy-0775. Removing mask folder: ./prostate_mri/Test/masks/Prostate-MRI-US-Biopsy-0775\n",
      "No corresponding image folder for Prostate-MRI-US-Biopsy-0229. Removing mask folder: ./prostate_mri/Test/masks/Prostate-MRI-US-Biopsy-0229\n"
     ]
    }
   ],
   "source": [
    "image_dir = \"./prostate_mri/Test/images\"\n",
    "mask_dir = \"./prostate_mri/Test/masks\"\n",
    "sync_mask_with_image(image_dir, mask_dir)"
   ]
  },
  {
   "cell_type": "code",
   "execution_count": null,
   "metadata": {},
   "outputs": [],
   "source": []
  }
 ],
 "metadata": {
  "kernelspec": {
   "display_name": "Python 3 (ipykernel)",
   "language": "python",
   "name": "python3"
  },
  "language_info": {
   "codemirror_mode": {
    "name": "ipython",
    "version": 3
   },
   "file_extension": ".py",
   "mimetype": "text/x-python",
   "name": "python",
   "nbconvert_exporter": "python",
   "pygments_lexer": "ipython3",
   "version": "3.9.18"
  }
 },
 "nbformat": 4,
 "nbformat_minor": 4
}

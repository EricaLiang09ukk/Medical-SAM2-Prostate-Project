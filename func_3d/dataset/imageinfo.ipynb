{
 "cells": [
  {
   "cell_type": "code",
   "execution_count": 2,
   "metadata": {},
   "outputs": [
    {
     "name": "stdout",
     "output_type": "stream",
     "text": [
      "File Name: D:\\MedSAM2\\Medical-SAM2\\data\\prostate_mri\\Training\\masks\\Prostate-MRI-US-Biopsy-0002\\72342316-002c-4097-bd25-9cdecd404247.dcm\n",
      "Modality: SEG\n",
      "Series Description: Segmentation of prostate\n",
      "Instance Number: 1\n",
      "SOP Class UID: 1.2.840.10008.5.1.4.1.1.66.4\n",
      "Image Shape: (60, 256, 256)\n",
      "----------------------------------------\n",
      "File Name: D:\\MedSAM2\\Medical-SAM2\\data\\prostate_mri\\Training\\masks\\Prostate-MRI-US-Biopsy-0002\\525b3596-ace4-42b4-96e7-3a791a0033a9.dcm\n",
      "Modality: SEG\n",
      "Series Description: Segmentation of prostate lesion 1\n",
      "Instance Number: 1\n",
      "SOP Class UID: 1.2.840.10008.5.1.4.1.1.66.4\n",
      "Image Shape: (60, 256, 256)\n",
      "----------------------------------------\n",
      "File Name: D:\\MedSAM2\\Medical-SAM2\\data\\prostate_mri\\Training\\masks\\Prostate-MRI-US-Biopsy-0002\\16504918-d4a0-4a15-9a74-b306f85f22e3.dcm\n",
      "Modality: SEG\n",
      "Series Description: AIMI Prostate Segmentation\n",
      "Instance Number: 1\n",
      "SOP Class UID: 1.2.840.10008.5.1.4.1.1.66.4\n",
      "Image Shape: (34, 256, 256)\n",
      "----------------------------------------\n"
     ]
    }
   ],
   "source": [
    "import pydicom\n",
    "\n",
    "# Replace these with the paths to your DICOM files\n",
    "file_paths = [\n",
    "    r\"D:\\MedSAM2\\Medical-SAM2\\data\\prostate_mri\\Training\\masks\\Prostate-MRI-US-Biopsy-0002\\72342316-002c-4097-bd25-9cdecd404247.dcm\",\n",
    "    r\"D:\\MedSAM2\\Medical-SAM2\\data\\prostate_mri\\Training\\masks\\Prostate-MRI-US-Biopsy-0002\\525b3596-ace4-42b4-96e7-3a791a0033a9.dcm\",\n",
    "    r\"D:\\MedSAM2\\Medical-SAM2\\data\\prostate_mri\\Training\\masks\\Prostate-MRI-US-Biopsy-0002\\16504918-d4a0-4a15-9a74-b306f85f22e3.dcm\"\n",
    "]\n",
    "\n",
    "# Iterate over the files to extract relevant metadata and confirm their contents\n",
    "for file_path in file_paths:\n",
    "    dicom_file = pydicom.dcmread(file_path)\n",
    "    print(f\"File Name: {file_path}\")\n",
    "    print(f\"Modality: {dicom_file.get('Modality', 'N/A')}\")\n",
    "    print(f\"Series Description: {dicom_file.get('SeriesDescription', 'N/A')}\")\n",
    "    print(f\"Instance Number: {dicom_file.get('InstanceNumber', 'N/A')}\")\n",
    "    print(f\"SOP Class UID: {dicom_file.get('SOPClassUID', 'N/A')}\")\n",
    "    \n",
    "    # Print pixel array shape if available\n",
    "    if hasattr(dicom_file, \"pixel_array\"):\n",
    "        print(f\"Image Shape: {dicom_file.pixel_array.shape}\")\n",
    "    else:\n",
    "        print(\"No pixel array available\")\n",
    "\n",
    "    print(\"-\" * 40)\n"
   ]
  },
  {
   "cell_type": "code",
   "execution_count": null,
   "metadata": {},
   "outputs": [],
   "source": []
  }
 ],
 "metadata": {
  "kernelspec": {
   "display_name": "base",
   "language": "python",
   "name": "python3"
  },
  "language_info": {
   "codemirror_mode": {
    "name": "ipython",
    "version": 3
   },
   "file_extension": ".py",
   "mimetype": "text/x-python",
   "name": "python",
   "nbconvert_exporter": "python",
   "pygments_lexer": "ipython3",
   "version": "3.12.4"
  }
 },
 "nbformat": 4,
 "nbformat_minor": 2
}
